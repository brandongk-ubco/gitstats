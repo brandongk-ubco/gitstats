{
 "cells": [
  {
   "cell_type": "code",
   "execution_count": 1,
   "metadata": {},
   "outputs": [
    {
     "name": "stdout",
     "output_type": "stream",
     "text": [
      "\u001b[33mWARNING: Skipping gitstats as it is not installed.\u001b[0m\n",
      "Collecting gitstats==1.1.0\n",
      "  Downloading https://github.com/brandongk-ubco/gitstats/releases/download/v1.1.0/gitstats-1.1.0-py3-none-any.whl (21 kB)\n",
      "Requirement already satisfied: pandas in /opt/conda/lib/python3.8/site-packages (from gitstats==1.1.0) (1.1.0)\n",
      "Collecting PyGithub\n",
      "  Downloading PyGithub-1.53-py3-none-any.whl (274 kB)\n",
      "\u001b[K     |████████████████████████████████| 274 kB 6.3 MB/s eta 0:00:01\n",
      "\u001b[?25hRequirement already satisfied: Jinja2 in /opt/conda/lib/python3.8/site-packages (from gitstats==1.1.0) (2.11.2)\n",
      "Requirement already satisfied: python-dateutil>=2.7.3 in /opt/conda/lib/python3.8/site-packages (from pandas->gitstats==1.1.0) (2.8.1)\n",
      "Requirement already satisfied: pytz>=2017.2 in /opt/conda/lib/python3.8/site-packages (from pandas->gitstats==1.1.0) (2020.1)\n",
      "Requirement already satisfied: numpy>=1.15.4 in /opt/conda/lib/python3.8/site-packages (from pandas->gitstats==1.1.0) (1.18.5)\n",
      "Requirement already satisfied: deprecated in /opt/conda/lib/python3.8/site-packages (from PyGithub->gitstats==1.1.0) (1.2.10)\n",
      "Requirement already satisfied: pyjwt in /opt/conda/lib/python3.8/site-packages (from PyGithub->gitstats==1.1.0) (1.7.1)\n",
      "Requirement already satisfied: requests>=2.14.0 in /opt/conda/lib/python3.8/site-packages (from PyGithub->gitstats==1.1.0) (2.24.0)\n",
      "Requirement already satisfied: MarkupSafe>=0.23 in /opt/conda/lib/python3.8/site-packages (from Jinja2->gitstats==1.1.0) (1.1.1)\n",
      "Requirement already satisfied: six>=1.5 in /opt/conda/lib/python3.8/site-packages (from python-dateutil>=2.7.3->pandas->gitstats==1.1.0) (1.15.0)\n",
      "Requirement already satisfied: wrapt<2,>=1.10 in /opt/conda/lib/python3.8/site-packages (from deprecated->PyGithub->gitstats==1.1.0) (1.12.1)\n",
      "Requirement already satisfied: urllib3!=1.25.0,!=1.25.1,<1.26,>=1.21.1 in /opt/conda/lib/python3.8/site-packages (from requests>=2.14.0->PyGithub->gitstats==1.1.0) (1.25.9)\n",
      "Requirement already satisfied: certifi>=2017.4.17 in /opt/conda/lib/python3.8/site-packages (from requests>=2.14.0->PyGithub->gitstats==1.1.0) (2020.6.20)\n",
      "Requirement already satisfied: idna<3,>=2.5 in /opt/conda/lib/python3.8/site-packages (from requests>=2.14.0->PyGithub->gitstats==1.1.0) (2.10)\n",
      "Requirement already satisfied: chardet<4,>=3.0.2 in /opt/conda/lib/python3.8/site-packages (from requests>=2.14.0->PyGithub->gitstats==1.1.0) (3.0.4)\n",
      "Installing collected packages: PyGithub, gitstats\n",
      "Successfully installed PyGithub-1.53 gitstats-1.1.0\n"
     ]
    }
   ],
   "source": [
    "!pip uninstall -y gitstats\n",
    "!pip install --no-cache-dir https://github.com/brandongk-ubco/gitstats/releases/download/v1.1.0/gitstats-1.1.0-py3-none-any.whl"
   ]
  },
  {
   "cell_type": "code",
   "execution_count": 1,
   "metadata": {},
   "outputs": [
    {
     "output_type": "stream",
     "name": "stdout",
     "text": [
      "alpha\n"
     ]
    }
   ],
   "source": [
    "import gitstats\n",
    "print(gitstats.__version__)"
   ]
  },
  {
   "cell_type": "code",
   "execution_count": 2,
   "metadata": {},
   "outputs": [
    {
     "output_type": "stream",
     "name": "stdout",
     "text": [
      "Group Name: gitstats\nPeriod: 2020-09-09 17:30:00 to 2020-09-16 17:30:00\n\n==============================\nIndividual Contributions by PR\n==============================\n                    user  pr  commits  additions  deletions  changes  \\\n0  Brandon Graham-Knight  48        1          1          1        2   \n1  Brandon Graham-Knight  49        1          5          2        7   \n2  Brandon Graham-Knight  50        1        148        103      251   \n6  Brandon Graham-Knight  52        0          0          0        0   \n3  Brandon Graham-Knight  53        6        116        121      237   \n4  Brandon Graham-Knight  54        6        116        121      237   \n5  Brandon Graham-Knight  59        2         82         47      129   \n\n   comments  contributed  \n0         0         True  \n1         0         True  \n2         0         True  \n6         0        False  \n3         0         True  \n4         1         True  \n5         0         True  \n\n========================\nIndividual Contributions\n========================\n                    user  commits  changes  comments  contributed\n0  Brandon Graham-Knight       17      863         1            6\n\n=================\nIndividual Effort\n=================\n                    user  commits  changes  comments  contributed  effort\n0  Brandon Graham-Knight    125.0    125.0      25.0        112.5   107.5\n\n=============\nIssues Closed\n=============\n   label  completed\n0  chore          1\n1   task          3\n\n============================================\nIssues Ignored Because of Improper Labelling\n============================================\nNone\n\nTeam Score: 1\n\n======\nScores\n======\n                    user  score\n0  Brandon Graham-Knight  107.5\n"
     ]
    }
   ],
   "source": [
    "import gitstats\n",
    "from datetime import datetime\n",
    "\n",
    "access_token = \"279ab314a3b54582859277bfcc38d38c5d011dc9\"\n",
    "repository = \"brandongk-ubco/gitstats\"\n",
    "group_name = \"gitstats\"\n",
    "\n",
    "excluded_users = [\"bohuie\"]\n",
    "\n",
    "start = datetime.fromisoformat('2020-09-09T10:30')\n",
    "end = datetime.fromisoformat('2020-09-16T10:30')\n",
    "\n",
    "stats = gitstats.report(access_token,\n",
    "                        group_name,\n",
    "                        repository,\n",
    "                        start=start,\n",
    "                        end=end,\n",
    "                        excluded_users=excluded_users)\n",
    "print(stats)\n"
   ]
  },
  {
   "cell_type": "code",
   "execution_count": 4,
   "metadata": {},
   "outputs": [
    {
     "name": "stdout",
     "output_type": "stream",
     "text": [
      "Group Name: gitstats\n",
      "Period: 2020-09-02 10:30:00 to 2020-09-16 10:30:00\n",
      "\n",
      "========================\n",
      "Individual Contributions\n",
      "========================\n",
      "                     user  pr  commits  additions  deletions  changes  \\\n",
      "0   Brandon Graham-Knight  30        4         72         23       95   \n",
      "1   Brandon Graham-Knight  31        5         81         40      121   \n",
      "2   Brandon Graham-Knight  32        2        381        151      532   \n",
      "3   Brandon Graham-Knight  33        1        162         45      207   \n",
      "4   Brandon Graham-Knight  34        3        380         38      418   \n",
      "5   Brandon Graham-Knight  35        2         52         13       65   \n",
      "6   Brandon Graham-Knight  36       68       5309        769     6078   \n",
      "7   Brandon Graham-Knight  37        3         56          6       62   \n",
      "8   Brandon Graham-Knight  38        4        107          7      114   \n",
      "9   Brandon Graham-Knight  39        1         13          0       13   \n",
      "10  Brandon Graham-Knight  40        2         26          0       26   \n",
      "11  Brandon Graham-Knight  41        9        240         27      267   \n",
      "12  Brandon Graham-Knight  42       10        449         48      497   \n",
      "13  Brandon Graham-Knight  43        2        221         22      243   \n",
      "14  Brandon Graham-Knight  44        1         13         11       24   \n",
      "15  Brandon Graham-Knight  45        1         10         10       20   \n",
      "16  Brandon Graham-Knight  46       11        502         79      581   \n",
      "17  Brandon Graham-Knight  47       15        997        148     1145   \n",
      "18  Brandon Graham-Knight  48        1          1          1        2   \n",
      "19  Brandon Graham-Knight  49        1          5          2        7   \n",
      "20  Brandon Graham-Knight  50        1        148        103      251   \n",
      "21  Brandon Graham-Knight  51        6        641        165      806   \n",
      "22  Brandon Graham-Knight  52        1         97        102      199   \n",
      "23  Brandon Graham-Knight  53        6        116        121      237   \n",
      "24  Brandon Graham-Knight  54       10        318        330      648   \n",
      "25  Brandon Graham-Knight  59        2         82         47      129   \n",
      "\n",
      "    comments  contributed  \n",
      "0          0         True  \n",
      "1          0         True  \n",
      "2          0         True  \n",
      "3          0         True  \n",
      "4          0         True  \n",
      "5          0         True  \n",
      "6          0         True  \n",
      "7          0         True  \n",
      "8          0         True  \n",
      "9          0         True  \n",
      "10         0         True  \n",
      "11         0         True  \n",
      "12         0         True  \n",
      "13         0         True  \n",
      "14         0         True  \n",
      "15         0         True  \n",
      "16         0         True  \n",
      "17         0         True  \n",
      "18         0         True  \n",
      "19         0         True  \n",
      "20         0         True  \n",
      "21         0         True  \n",
      "22         0         True  \n",
      "23         0         True  \n",
      "24         1         True  \n",
      "25         0         True  \n",
      "\n",
      "=================\n",
      "Individual Effort\n",
      "=================\n",
      "                    user  commits  changes  comments  contributed  effort\n",
      "0  Brandon Graham-Knight    100.0    100.0     100.0        100.0   100.0\n",
      "\n",
      "=============\n",
      "Issues Closed\n",
      "=============\n",
      "   label  completed\n",
      "0  chore          1\n",
      "1   task          3\n",
      "\n",
      "============================================\n",
      "Issues Ignored Because of Improper Labelling\n",
      "============================================\n",
      "None\n",
      "\n",
      "Team Score: 1.0\n",
      "\n",
      "======\n",
      "Scores\n",
      "======\n",
      "                    user  score\n",
      "0  Brandon Graham-Knight  100.0\n"
     ]
    }
   ],
   "source": [
    "import gitstats\n",
    "from datetime import datetime\n",
    "\n",
    "access_token = \"279ab314a3b54582859277bfcc38d38c5d011dc9\"\n",
    "repository = \"brandongk-ubco/gitstats\"\n",
    "group_name = \"gitstats\"\n",
    "\n",
    "start = datetime.fromisoformat('2020-09-02T10:30')\n",
    "end = datetime.fromisoformat('2020-09-16T10:30')\n",
    "\n",
    "excluded_users = [\"bohuie\"]\n",
    "\n",
    "stats = gitstats.report(access_token,\n",
    "                        group_name,\n",
    "                        repository,\n",
    "                        start=start,\n",
    "                        end=end,\n",
    "                        excluded_users=excluded_users)\n",
    "print(stats)"
   ]
  },
  {
   "cell_type": "code",
   "execution_count": null,
   "metadata": {},
   "outputs": [],
   "source": []
  }
 ],
 "metadata": {
  "kernelspec": {
   "name": "python3",
   "display_name": "Python 3.9.1 64-bit ('gitstats': conda)",
   "metadata": {
    "interpreter": {
     "hash": "0e2050bd53df42941895acdca27461294a07bd05b35db9bc1fcf73d77b75559b"
    }
   }
  },
  "language_info": {
   "codemirror_mode": {
    "name": "ipython",
    "version": 3
   },
   "file_extension": ".py",
   "mimetype": "text/x-python",
   "name": "python",
   "nbconvert_exporter": "python",
   "pygments_lexer": "ipython3",
   "version": "3.9.1-final"
  }
 },
 "nbformat": 4,
 "nbformat_minor": 4
}